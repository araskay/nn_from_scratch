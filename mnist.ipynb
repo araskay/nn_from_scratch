{
 "cells": [
  {
   "cell_type": "code",
   "execution_count": null,
   "id": "4a1a91f7-f3d6-49ca-abf1-f1d58dd34da1",
   "metadata": {},
   "outputs": [],
   "source": [
    "# https://medium.com/analytics-vidhya/neural-network-mnist-classifier-from-scratch-using-numpy-library-94bbcfed7eae"
   ]
  },
  {
   "cell_type": "code",
   "execution_count": 1,
   "id": "8a7b422a-15bb-4bbd-8897-edd4865a4326",
   "metadata": {},
   "outputs": [],
   "source": [
    "import numpy as np"
   ]
  },
  {
   "cell_type": "code",
   "execution_count": 36,
   "id": "598ab172-0fa6-4a10-8e59-1fb396f90e88",
   "metadata": {},
   "outputs": [],
   "source": [
    "def one_hot_encode(y, levels):\n",
    "    res = np.zeros((len(y), levels))\n",
    "    for i in range(len(y)):\n",
    "        res[i, y[i]] = 1\n",
    "    return res\n",
    "\n",
    "def normalize(x):\n",
    "    return x / np.max(x)\n",
    "\n",
    "def read_csv(fname):\n",
    "    data = np.loadtxt(fname, skiprows=1, delimiter=',')\n",
    "    y = data[:, :1]\n",
    "    x = data[:, 1:]\n",
    "    return x, y\n",
    "\n",
    "def load_data(fname):\n",
    "    x, y = read_csv(fname)\n",
    "    x = normalize(x)\n",
    "    y = np.int16(y)\n",
    "    y = one_hot_encode(y, levels=10)\n",
    "    return x, y"
   ]
  },
  {
   "cell_type": "code",
   "execution_count": 37,
   "id": "d1a2f026-1872-4537-a7c5-50963613a7f2",
   "metadata": {},
   "outputs": [],
   "source": [
    "x_train, y_train = load_data('mnist_train.csv')\n",
    "x_test, y_test = load_data('mnist_test.csv')"
   ]
  },
  {
   "cell_type": "code",
   "execution_count": null,
   "id": "a3c6ce3d-4f4d-44b0-bbaf-e25a7bd00866",
   "metadata": {},
   "outputs": [],
   "source": []
  }
 ],
 "metadata": {
  "kernelspec": {
   "display_name": "ds",
   "language": "python",
   "name": "ds"
  },
  "language_info": {
   "codemirror_mode": {
    "name": "ipython",
    "version": 3
   },
   "file_extension": ".py",
   "mimetype": "text/x-python",
   "name": "python",
   "nbconvert_exporter": "python",
   "pygments_lexer": "ipython3",
   "version": "3.10.6"
  }
 },
 "nbformat": 4,
 "nbformat_minor": 5
}
